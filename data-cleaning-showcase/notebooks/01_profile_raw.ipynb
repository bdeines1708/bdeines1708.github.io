{
 "cells": [
  {
   "cell_type": "markdown",
   "id": "4ec8771a",
   "metadata": {},
   "source": [
    "# 01 — Profile Raw Data\n",
    "\n",
    "Load CSV, profile, and log issues in `reports/issues_log.md`."
   ]
  },
  {
   "cell_type": "code",
   "execution_count": null,
   "id": "8bf25b46",
   "metadata": {},
   "outputs": [],
   "source": [
    "import pandas as pd\n",
    "from src.utils import profile\n",
    "\n",
    "raw_path = 'data/raw/your_file.csv'  # TODO: replace\n",
    "df = pd.read_csv(raw_path)\n",
    "profile(df)"
   ]
  }
 ],
 "metadata": {},
 "nbformat": 4,
 "nbformat_minor": 5
}
