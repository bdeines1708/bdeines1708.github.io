{
 "cells": [
  {
   "cell_type": "markdown",
   "id": "419e9fbb",
   "metadata": {},
   "source": [
    "# 03 — Validate & QA\n",
    "\n",
    "Write assertions to confirm cleaned data meets expectations."
   ]
  },
  {
   "cell_type": "code",
   "execution_count": null,
   "id": "f1ccab07",
   "metadata": {},
   "outputs": [],
   "source": [
    "import pandas as pd\n",
    "from src.dq_rules import assert_non_null, assert_value_range, assert_unique\n",
    "\n",
    "df = pd.read_csv('data/clean/your_file_clean.csv')  # TODO\n",
    "# assert_non_null(df, ['id'])\n",
    "# assert_value_range(df, 'age', low=0, high=120)\n",
    "# assert_unique(df, ['id'])\n",
    "print('All validation checks passed!')"
   ]
  }
 ],
 "metadata": {},
 "nbformat": 4,
 "nbformat_minor": 5
}
