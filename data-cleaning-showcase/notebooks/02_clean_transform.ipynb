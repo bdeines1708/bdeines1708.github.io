{
 "cells": [
  {
   "cell_type": "markdown",
   "id": "d3b425f4",
   "metadata": {},
   "source": [
    "# 02 — Clean & Transform\n",
    "\n",
    "Apply fixes (types, whitespace, standardization, imputation, dedupe)."
   ]
  },
  {
   "cell_type": "code",
   "execution_count": null,
   "id": "ddf88191",
   "metadata": {},
   "outputs": [],
   "source": [
    "import pandas as pd\n",
    "from src.utils import standardize_whitespace, to_datetime_safe\n",
    "\n",
    "df = pd.read_csv('data/raw/your_file.csv')  # TODO\n",
    "df = standardize_whitespace(df)\n",
    "# df['date'] = to_datetime_safe(df['date'])  # example\n",
    "# TODO: more cleaning steps\n",
    "df.to_csv('data/clean/your_file_clean.csv', index=False)"
   ]
  }
 ],
 "metadata": {},
 "nbformat": 4,
 "nbformat_minor": 5
}
